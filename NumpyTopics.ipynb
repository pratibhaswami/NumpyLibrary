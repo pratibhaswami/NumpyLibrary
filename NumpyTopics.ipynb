{
 "cells": [
  {
   "cell_type": "markdown",
   "id": "511a2ea2",
   "metadata": {},
   "source": [
    "# What is numpy"
   ]
  },
  {
   "attachments": {},
   "cell_type": "markdown",
   "id": "00c7c13e",
   "metadata": {},
   "source": [
    "Numpy is python library\n",
    "\n",
    "it used for working with arrays\n",
    "\n",
    "numpy short for Numerical Python"
   ]
  },
  {
   "cell_type": "markdown",
   "id": "3efcbbe2",
   "metadata": {},
   "source": [
    "It's python's library used for working with arrays\n",
    "    \n",
    "also has fun to work in domain like linear algebra, fourier transforn, and matrices"
   ]
  },
  {
   "cell_type": "markdown",
   "id": "96725e67",
   "metadata": {},
   "source": [
    "# why to use numpy"
   ]
  },
  {
   "cell_type": "markdown",
   "id": "5dbe06f8",
   "metadata": {},
   "source": [
    "\n",
    "- we have list already to serve the purpose of array, nut they are quite slow to process\n",
    "- but numpy provide an array object that is 50x times faster than traditional python list\n",
    "- the array obj in python is called ndarray,it provides a lot of supporting func that make ndarray very easy\n",
    "- arrays are frequently used in Data Sci where speed and resources are very imp"
   ]
  },
  {
   "cell_type": "markdown",
   "id": "7b845954",
   "metadata": {},
   "source": [
    "Data Science: is a branch of computer science where we study how to store, use and analyze data for deriving information from it."
   ]
  },
  {
   "cell_type": "markdown",
   "id": "3159ac31",
   "metadata": {},
   "source": [
    "# Why is NumPy Faster Than Lists?"
   ]
  },
  {
   "cell_type": "markdown",
   "id": "79758962",
   "metadata": {},
   "source": [
    "\n",
    "- NumPy arrays are stored at one continuous place in memory unlike lists, so processes can access and manipulate them very efficiently.\n",
    "- This locality is called locality of reference in computer science\n",
    "- This is the main reason why NumPy is faster than lists"
   ]
  },
  {
   "cell_type": "markdown",
   "id": "f944a51d",
   "metadata": {},
   "source": [
    "# Which Language is NumPy written in?"
   ]
  },
  {
   "cell_type": "markdown",
   "id": "1c6acf84",
   "metadata": {},
   "source": [
    "NumPy is a Python library and is written partially in Python, but most of the parts that require fast computation are \n",
    "written in C or C++."
   ]
  },
  {
   "cell_type": "code",
   "execution_count": 3,
   "id": "64d8acb6",
   "metadata": {},
   "outputs": [
    {
     "name": "stdout",
     "output_type": "stream",
     "text": [
      "[1 2 3 4 5]\n"
     ]
    }
   ],
   "source": [
    "import numpy as np\n",
    "\n",
    "arr = np.array([1, 2, 3, 4, 5])\n",
    "\n",
    "print(arr)"
   ]
  },
  {
   "cell_type": "markdown",
   "id": "1acc9cda",
   "metadata": {},
   "source": [
    "# checking numpy version"
   ]
  },
  {
   "cell_type": "code",
   "execution_count": 3,
   "id": "6422e670",
   "metadata": {},
   "outputs": [
    {
     "name": "stdout",
     "output_type": "stream",
     "text": [
      "1.21.5\n"
     ]
    }
   ],
   "source": [
    "print(np.__version__)"
   ]
  },
  {
   "cell_type": "markdown",
   "id": "7e640a44",
   "metadata": {},
   "source": [
    "# Create a NumPy ndarray Object"
   ]
  },
  {
   "cell_type": "markdown",
   "id": "6ca47f3c",
   "metadata": {},
   "source": [
    " NumPy is used to work with arrays. The array object in NumPy is called ndarray.\n",
    "\n",
    " We can create a NumPy ndarray object by using the array() function."
   ]
  },
  {
   "cell_type": "code",
   "execution_count": 8,
   "id": "a91a21f2",
   "metadata": {},
   "outputs": [
    {
     "data": {
      "text/plain": [
       "numpy.ndarray"
      ]
     },
     "execution_count": 8,
     "metadata": {},
     "output_type": "execute_result"
    }
   ],
   "source": [
    "arr = np.array([3,5,6,71,5,6]) #to create array we can pass a list, tuple or any array-like object into array method\n",
    "# arr\n",
    "type(arr)"
   ]
  },
  {
   "cell_type": "markdown",
   "id": "ce667394",
   "metadata": {},
   "source": [
    "# Dimensions in Arrays"
   ]
  },
  {
   "cell_type": "markdown",
   "id": "1ed61a32",
   "metadata": {},
   "source": [
    "A dimension in arrays is one level of array depth (nested arrays)."
   ]
  },
  {
   "cell_type": "markdown",
   "id": "0ea414c2",
   "metadata": {},
   "source": [
    "# 0-D Arrays"
   ]
  },
  {
   "cell_type": "markdown",
   "id": "5b034221",
   "metadata": {},
   "source": [
    " 0-D arrays, or Scalars, are the elements in an array. Each value in an array is a 0-D array."
   ]
  },
  {
   "cell_type": "code",
   "execution_count": 9,
   "id": "d91da151",
   "metadata": {},
   "outputs": [
    {
     "name": "stdout",
     "output_type": "stream",
     "text": [
      "42\n"
     ]
    }
   ],
   "source": [
    "import numpy as np\n",
    "arr = np.array(42) # 0-D \n",
    "print(arr)"
   ]
  },
  {
   "cell_type": "markdown",
   "id": "ebc6a342",
   "metadata": {},
   "source": [
    "# 1-D Arrays"
   ]
  },
  {
   "cell_type": "markdown",
   "id": "5457ed4e",
   "metadata": {},
   "source": [
    "An array that has 0-D arrays as its elements is called uni-dimensional or 1-D array."
   ]
  },
  {
   "cell_type": "code",
   "execution_count": 11,
   "id": "7a827125",
   "metadata": {},
   "outputs": [
    {
     "name": "stdout",
     "output_type": "stream",
     "text": [
      "[1 2 3 4 5]\n"
     ]
    }
   ],
   "source": [
    "import numpy as np\n",
    "arr = np.array([1, 2, 3, 4, 5])\n",
    "print(arr)"
   ]
  },
  {
   "cell_type": "markdown",
   "id": "e5dde028",
   "metadata": {},
   "source": [
    "# 2-D Array"
   ]
  },
  {
   "attachments": {},
   "cell_type": "markdown",
   "id": "edc1c862",
   "metadata": {},
   "source": [
    "An array that has 1-D arrays as its elements is called a 2-D array\n",
    "\n",
    "These are often used to represent matrix or 2nd order tensors."
   ]
  },
  {
   "cell_type": "code",
   "execution_count": 12,
   "id": "238c2836",
   "metadata": {},
   "outputs": [
    {
     "name": "stdout",
     "output_type": "stream",
     "text": [
      "[[1 2 3]\n",
      " [4 5 6]]\n"
     ]
    }
   ],
   "source": [
    "import numpy as np\n",
    "arr = np.array([[1,2,3],[4,5,6]])\n",
    "print(arr)"
   ]
  },
  {
   "cell_type": "markdown",
   "id": "50c8af1a",
   "metadata": {},
   "source": [
    "# 3-D arrays"
   ]
  },
  {
   "cell_type": "markdown",
   "id": "422f6f16",
   "metadata": {},
   "source": [
    "An array that has 2-D arrays (matrices) as its elements is called 3-D array."
   ]
  },
  {
   "cell_type": "code",
   "execution_count": 13,
   "id": "8292ca38",
   "metadata": {},
   "outputs": [
    {
     "name": "stdout",
     "output_type": "stream",
     "text": [
      "[[[1 2 3]\n",
      "  [4 5 6]]\n",
      "\n",
      " [[1 2 3]\n",
      "  [4 5 6]]]\n"
     ]
    }
   ],
   "source": [
    "import numpy as np\n",
    "arr = np.array([[[1, 2, 3], [4, 5, 6]], [[1, 2, 3], [4, 5, 6]]])\n",
    "print(arr)"
   ]
  },
  {
   "cell_type": "markdown",
   "id": "010ed7cd",
   "metadata": {},
   "source": [
    "# Check number of Dimensions"
   ]
  },
  {
   "cell_type": "markdown",
   "id": "721e4137",
   "metadata": {},
   "source": [
    "ndim attribute that returns no. of dimensions thay array have."
   ]
  },
  {
   "cell_type": "code",
   "execution_count": 14,
   "id": "26752b74",
   "metadata": {},
   "outputs": [
    {
     "name": "stdout",
     "output_type": "stream",
     "text": [
      "0\n",
      "1\n",
      "2\n",
      "3\n"
     ]
    }
   ],
   "source": [
    "import numpy as np\n",
    "\n",
    "a = np.array(42)\n",
    "b = np.array([1,2,3,4,5])\n",
    "c = np.array([[1,2,3],[4,5,6]])\n",
    "d = np.array([[[1,2,3],[4,5,6]],[[7,8,9],[10,11,12]]])\n",
    "\n",
    "print(a.ndim)\n",
    "print(b.ndim)\n",
    "print(c.ndim)\n",
    "print(d.ndim)"
   ]
  },
  {
   "cell_type": "markdown",
   "id": "f8a5e787",
   "metadata": {},
   "source": [
    "# Higher Dimensional Arrays"
   ]
  },
  {
   "cell_type": "markdown",
   "id": "ab07b0ac",
   "metadata": {},
   "source": [
    "An array can have any number of dimensions\n",
    "when the array is created, you can define the number of dimentiosn by using the ndmin arg."
   ]
  },
  {
   "cell_type": "code",
   "execution_count": 16,
   "id": "0ad2bbb9",
   "metadata": {},
   "outputs": [
    {
     "name": "stdout",
     "output_type": "stream",
     "text": [
      "[[[[[1 3 3]]]]]\n",
      "number of dimension :  5\n"
     ]
    }
   ],
   "source": [
    "import numpy as np\n",
    "arr = np.array([1,3,3],ndmin=5) #hint: number of brackets = dim of arr\n",
    "print(arr)\n",
    "print('number of dimension : ',arr.ndim)"
   ]
  },
  {
   "cell_type": "markdown",
   "id": "f998d448",
   "metadata": {},
   "source": [
    "# NumPy Array Indexing"
   ]
  },
  {
   "cell_type": "markdown",
   "id": "a556f8c2",
   "metadata": {},
   "source": [
    "Access Array Elements:\n",
    "    \n",
    "Array indexing is the same as accessing an array element.\n",
    "u can access an array ele by referring to its index number.\n",
    "same like list, it's starts with 0th index"
   ]
  },
  {
   "cell_type": "code",
   "execution_count": 18,
   "id": "ac82d363",
   "metadata": {},
   "outputs": [
    {
     "name": "stdout",
     "output_type": "stream",
     "text": [
      "2\n",
      "9\n"
     ]
    }
   ],
   "source": [
    "import numpy as np\n",
    "arr = np.array([2,3,4,5])\n",
    "print(arr[0])\n",
    "print(arr[2] + arr[3])"
   ]
  },
  {
   "cell_type": "markdown",
   "id": "14f1920a",
   "metadata": {},
   "source": [
    "# Access 2D Array"
   ]
  },
  {
   "cell_type": "markdown",
   "id": "d4e90179",
   "metadata": {},
   "source": [
    "To access elements from 2D arrays we can use comma seprated int respresting the dimesnion and the index of the element.\n"
   ]
  },
  {
   "cell_type": "code",
   "execution_count": 19,
   "id": "4667f833",
   "metadata": {},
   "outputs": [
    {
     "name": "stdout",
     "output_type": "stream",
     "text": [
      "2nd ele of 1st row :  4\n"
     ]
    }
   ],
   "source": [
    "import numpy as np\n",
    "arr = np.array([[3,4,5] ,[5,6,7]])\n",
    "print('2nd ele of 1st row : ',arr[0,1])"
   ]
  },
  {
   "cell_type": "markdown",
   "id": "92339135",
   "metadata": {},
   "source": [
    "# Access 3D Arrays"
   ]
  },
  {
   "cell_type": "code",
   "execution_count": 22,
   "id": "a07d1ea8",
   "metadata": {},
   "outputs": [
    {
     "name": "stdout",
     "output_type": "stream",
     "text": [
      "7\n"
     ]
    }
   ],
   "source": [
    "import numpy as np\n",
    "arr = np.array([[[5,24,4],[7,5,7]],[[2,3,4],[7,6,5]]])\n",
    "print(arr[0,1,2])"
   ]
  },
  {
   "cell_type": "markdown",
   "id": "1f97a1a9",
   "metadata": {},
   "source": [
    "Negative indexing is just like list"
   ]
  },
  {
   "cell_type": "markdown",
   "id": "ac413459",
   "metadata": {},
   "source": [
    "# NumPy Array slicing"
   ]
  },
  {
   "attachments": {},
   "cell_type": "markdown",
   "id": "a8147402",
   "metadata": {},
   "source": [
    "slicing arrays:\n",
    "\n",
    "slicing in python means taking ele from one given index to another given index\n",
    "\n",
    "slicing - [start,end,step]"
   ]
  },
  {
   "cell_type": "code",
   "execution_count": 24,
   "id": "3c75472e",
   "metadata": {},
   "outputs": [
    {
     "name": "stdout",
     "output_type": "stream",
     "text": [
      "[2 4 5 7]\n",
      "[7 5]\n"
     ]
    }
   ],
   "source": [
    "import numpy as np\n",
    "arr = np.array([1,2,4,5,7,5])\n",
    "print(arr[1:5]) #it includes the start index, but excludes the end index\n",
    "print(arr[4:])\n",
    "print(arr[:4])"
   ]
  },
  {
   "cell_type": "markdown",
   "id": "96b6133d",
   "metadata": {},
   "source": [
    "Negative slicing is same as list"
   ]
  },
  {
   "cell_type": "markdown",
   "id": "584b3f2a",
   "metadata": {},
   "source": [
    "# Step"
   ]
  },
  {
   "cell_type": "markdown",
   "id": "cb9bfed0",
   "metadata": {},
   "source": [
    "it uses to determine the step of slicing"
   ]
  },
  {
   "cell_type": "code",
   "execution_count": 29,
   "id": "682e701b",
   "metadata": {},
   "outputs": [
    {
     "name": "stdout",
     "output_type": "stream",
     "text": [
      "[2 7 5 3]\n",
      "[5 7 3]\n"
     ]
    }
   ],
   "source": [
    "import numpy as np\n",
    "arr = np.array([5,2,7,5,3])\n",
    "print(arr[1:5:1])# steping 1 mns No change,steping 2 mns at alternative\n",
    "print(arr[::2])"
   ]
  },
  {
   "cell_type": "code",
   "execution_count": 33,
   "id": "e6049bec",
   "metadata": {},
   "outputs": [
    {
     "name": "stdout",
     "output_type": "stream",
     "text": [
      "[5 4]\n"
     ]
    }
   ],
   "source": [
    "# slicing 2D array\n",
    "import numpy as np\n",
    "arr = np.array([[3,4,5,3,4],[7,5,4,3,8]])\n",
    "print(arr[1,1:3])\n",
    "print(arr[0:2,2])#0:2 mns both array and in that 2 mns of each array"
   ]
  },
  {
   "cell_type": "code",
   "execution_count": 35,
   "id": "dde15208",
   "metadata": {},
   "outputs": [
    {
     "name": "stdout",
     "output_type": "stream",
     "text": [
      "[[6 4 6]\n",
      " [4 5 9]]\n"
     ]
    }
   ],
   "source": [
    "import numpy as np\n",
    "arr = np.array([[3,6,4,6,4,3],[2,4,5,9,8,6]])\n",
    "print(arr[0:2,1:4])"
   ]
  },
  {
   "cell_type": "markdown",
   "id": "196ff147",
   "metadata": {},
   "source": [
    "# NumPy Data Types"
   ]
  },
  {
   "cell_type": "markdown",
   "id": "63ad643d",
   "metadata": {},
   "source": [
    "by default python have following datatypes:\n",
    "\n",
    "1) strings - 'abcd'\n",
    "2) integer - '-1,-4,3,4'\n",
    "3) float - 2.4,3.5\n",
    "4) boolean - True or False\n",
    "5) complex - 1.0+3.5j,4.3+2.5j"
   ]
  },
  {
   "attachments": {},
   "cell_type": "markdown",
   "id": "173565c3",
   "metadata": {},
   "source": [
    "NumPy has some extra data types, can refer to data type with one char like i for int\n",
    "\n",
    "- i - integer\n",
    "- b - boolean\n",
    "- u - unsigned integer\n",
    "- f - float\n",
    "- c - complex float\n",
    "- m - timedelta\n",
    "- M - datetime\n",
    "- o - object\n",
    "- s - string\n",
    "- u - unicode sting\n",
    "- v - fixed chunk of memory for other type(void)"
   ]
  },
  {
   "cell_type": "markdown",
   "id": "05cf346b",
   "metadata": {},
   "source": [
    "# Checking the Data Type of an Array"
   ]
  },
  {
   "cell_type": "code",
   "execution_count": 37,
   "id": "9facab51",
   "metadata": {},
   "outputs": [
    {
     "name": "stdout",
     "output_type": "stream",
     "text": [
      "<U6\n",
      "int32\n"
     ]
    }
   ],
   "source": [
    "import numpy as np\n",
    "arr = np.array([3,4,5,7])\n",
    "arr1 = np.array(['apple','banana','cherry'])\n",
    "print(arr1.dtype)\n",
    "print(arr.dtype)"
   ]
  },
  {
   "cell_type": "markdown",
   "id": "73e5cc67",
   "metadata": {},
   "source": [
    "Creating Arrays with a Custom Data Type"
   ]
  },
  {
   "cell_type": "code",
   "execution_count": 40,
   "id": "f5989944",
   "metadata": {},
   "outputs": [
    {
     "name": "stdout",
     "output_type": "stream",
     "text": [
      "[b'5' b'3' b'7' b'9' b'2']\n",
      "|S1\n"
     ]
    }
   ],
   "source": [
    "arr3 = np.array([5,3,7,9,2],dtype='S')\n",
    "print(arr3)\n",
    "print(arr3.dtype)"
   ]
  },
  {
   "cell_type": "code",
   "execution_count": 41,
   "id": "06017ce9",
   "metadata": {},
   "outputs": [
    {
     "name": "stdout",
     "output_type": "stream",
     "text": [
      "[1 2 3 4]\n",
      "int32\n"
     ]
    }
   ],
   "source": [
    "# For i, u, f, S and U we can define size as well.\n",
    "arr4 = np.array([1, 2, 3, 4], dtype='i4')\n",
    "print(arr4)\n",
    "print(arr4.dtype)"
   ]
  },
  {
   "cell_type": "markdown",
   "id": "8e186dd9",
   "metadata": {},
   "source": [
    "# Converting Data Type on Existing Arrays"
   ]
  },
  {
   "cell_type": "markdown",
   "id": "069226f2",
   "metadata": {},
   "source": [
    "astype() : astype() fun creates a copy of the array, and the allow u to specify the data type as a para."
   ]
  },
  {
   "cell_type": "code",
   "execution_count": 45,
   "id": "8581a820",
   "metadata": {},
   "outputs": [
    {
     "name": "stdout",
     "output_type": "stream",
     "text": [
      "[1 4 6]\n",
      "int32\n"
     ]
    }
   ],
   "source": [
    "arr5 = np.array([1.2,4.5,6.4])\n",
    "newarr = arr5.astype('i')\n",
    "newarr1 = arr5.astype(bool)\n",
    "newarr2 = arr5.astype(int)\n",
    "print(newarr)\n",
    "print(newarr.dtype)\n"
   ]
  }
 ],
 "metadata": {
  "kernelspec": {
   "display_name": "Python 3 (ipykernel)",
   "language": "python",
   "name": "python3"
  },
  "language_info": {
   "codemirror_mode": {
    "name": "ipython",
    "version": 3
   },
   "file_extension": ".py",
   "mimetype": "text/x-python",
   "name": "python",
   "nbconvert_exporter": "python",
   "pygments_lexer": "ipython3",
   "version": "3.11.0"
  }
 },
 "nbformat": 4,
 "nbformat_minor": 5
}
